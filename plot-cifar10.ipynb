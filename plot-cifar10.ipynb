{
 "cells": [
  {
   "cell_type": "markdown",
   "metadata": {},
   "source": [
    "# Dataset Preparation (MNIST and CIFAR10)\n"
   ]
  },
  {
   "cell_type": "markdown",
   "metadata": {},
   "source": [
    "## Step 1 - Pre-processing\n",
    "\n",
    "The dataset splitter requires tabular data.\n",
    "\n",
    "So you need to convert the image dataset into `.csv` format first."
   ]
  },
  {
   "cell_type": "code",
   "execution_count": 1,
   "metadata": {},
   "outputs": [
    {
     "name": "stdout",
     "output_type": "stream",
     "text": [
      "/home/junyi/VertiBench\n"
     ]
    }
   ],
   "source": [
    "!pwd # make sure you are in the project root"
   ]
  },
  {
   "cell_type": "markdown",
   "metadata": {},
   "source": [
    "The following script may execute for a while, please be patient."
   ]
  },
  {
   "cell_type": "code",
   "execution_count": 3,
   "metadata": {},
   "outputs": [
    {
     "name": "stdout",
     "output_type": "stream",
     "text": [
      "Downloading http://yann.lecun.com/exdb/mnist/train-images-idx3-ubyte.gz\n",
      "Downloading http://yann.lecun.com/exdb/mnist/train-images-idx3-ubyte.gz to ./data/MNIST/raw/train-images-idx3-ubyte.gz\n",
      "100%|███████████████████████████| 9912422/9912422 [00:00<00:00, 10662907.65it/s]\n",
      "Extracting ./data/MNIST/raw/train-images-idx3-ubyte.gz to ./data/MNIST/raw\n",
      "\n",
      "Downloading http://yann.lecun.com/exdb/mnist/train-labels-idx1-ubyte.gz\n",
      "Downloading http://yann.lecun.com/exdb/mnist/train-labels-idx1-ubyte.gz to ./data/MNIST/raw/train-labels-idx1-ubyte.gz\n",
      "100%|██████████████████████████████| 28881/28881 [00:00<00:00, 115919324.23it/s]\n",
      "Extracting ./data/MNIST/raw/train-labels-idx1-ubyte.gz to ./data/MNIST/raw\n",
      "\n",
      "Downloading http://yann.lecun.com/exdb/mnist/t10k-images-idx3-ubyte.gz\n",
      "Downloading http://yann.lecun.com/exdb/mnist/t10k-images-idx3-ubyte.gz to ./data/MNIST/raw/t10k-images-idx3-ubyte.gz\n",
      "100%|███████████████████████████| 1648877/1648877 [00:00<00:00, 14186502.09it/s]\n",
      "Extracting ./data/MNIST/raw/t10k-images-idx3-ubyte.gz to ./data/MNIST/raw\n",
      "\n",
      "Downloading http://yann.lecun.com/exdb/mnist/t10k-labels-idx1-ubyte.gz\n",
      "Downloading http://yann.lecun.com/exdb/mnist/t10k-labels-idx1-ubyte.gz to ./data/MNIST/raw/t10k-labels-idx1-ubyte.gz\n",
      "100%|█████████████████████████████████| 4542/4542 [00:00<00:00, 21796943.67it/s]\n",
      "Extracting ./data/MNIST/raw/t10k-labels-idx1-ubyte.gz to ./data/MNIST/raw\n",
      "\n",
      "Downloading https://www.cs.toronto.edu/~kriz/cifar-10-python.tar.gz to ./data/cifar-10-python.tar.gz\n",
      "100%|████████████████████████| 170498071/170498071 [00:17<00:00, 9662172.64it/s]\n",
      "Extracting ./data/cifar-10-python.tar.gz to ./data\n",
      "Files already downloaded and verified\n"
     ]
    }
   ],
   "source": [
    "!python ./src/preprocess/mnist_cifar10.py # running the script (it will download the dataset, then convert it to .csv)"
   ]
  },
  {
   "cell_type": "code",
   "execution_count": 6,
   "metadata": {},
   "outputs": [],
   "source": [
    "!mkdir -p ./data/syn/mnist \n",
    "!mkdir -p ./data/syn/cifar10\n",
    "!mv ./data/mnist_test.csv ./data/mnist_train.csv ./data/syn/mnist/\n",
    "!mv ./data/cifar10_test.csv ./data/cifar10_train.csv ./data/syn/cifar10/"
   ]
  },
  {
   "cell_type": "code",
   "execution_count": null,
   "metadata": {},
   "outputs": [],
   "source": [
    "# 这部分还没写完\n",
    "!python src/preprocess/vertical_split.py data/syn/mnist/mnist_test.csv --gpu_id 0 --num_parties 4 --splitter imp --weights 0.1 \n",
    "!python src/preprocess/vertical_split.py data/syn/mnist/mnist_test.csv --gpu_id 0 --num_parties 4 --splitter imp --weights 1.0\n",
    "!python src/preprocess/vertical_split.py data/syn/mnist/mnist_test.csv --gpu_id 0 --num_parties 4 --splitter imp --weights 10.0\n",
    "!python src/preprocess/vertical_split.py data/syn/mnist/mnist_test.csv --gpu_id 0 --num_parties 4 --splitter imp --weights 100.0\n",
    "\n",
    "!python src/preprocess/vertical_split.py data/syn/mnist/mnist_test.csv --gpu_id 0 --num_parties 4 --splitter corr --beta 0.0\n",
    "!python src/preprocess/vertical_split.py data/syn/mnist/mnist_test.csv --gpu_id 0 --num_parties 4 --splitter corr --beta 0.3\n",
    "!python src/preprocess/vertical_split.py data/syn/mnist/mnist_test.csv --gpu_id 0 --num_parties 4 --splitter corr --beta 0.6\n",
    "!python src/preprocess/vertical_split.py data/syn/mnist/mnist_test.csv --gpu_id 0 --num_parties 4 --splitter corr --beta 1.0\n",
    "\n",
    "!python src/preprocess/vertical_split.py data/syn/mnist/mnist_train.csv --num_parties 4"
   ]
  }
 ],
 "metadata": {
  "kernelspec": {
   "display_name": "gal",
   "language": "python",
   "name": "python3"
  },
  "language_info": {
   "codemirror_mode": {
    "name": "ipython",
    "version": 3
   },
   "file_extension": ".py",
   "mimetype": "text/x-python",
   "name": "python",
   "nbconvert_exporter": "python",
   "pygments_lexer": "ipython3",
   "version": "3.9.18"
  }
 },
 "nbformat": 4,
 "nbformat_minor": 2
}
