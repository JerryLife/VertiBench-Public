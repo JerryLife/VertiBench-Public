{
 "cells": [
  {
   "cell_type": "code",
   "execution_count": 44,
   "metadata": {
    "collapsed": true,
    "ExecuteTime": {
     "end_time": "2023-06-14T04:57:01.645731130Z",
     "start_time": "2023-06-14T04:57:01.614255081Z"
    }
   },
   "outputs": [
    {
     "name": "stdout",
     "output_type": "stream",
     "text": [
      "covtype & 0.21 & 0.24 & 0.26 & 0.27 & 64.15 & 55.77 & 53.19 & 69.34 \\\\\n",
      "msd & 0.29 & 0.27 & 0.29 & 0.30 & 85.39 & 68.88 & 64.76 & 62.01 \\\\\n",
      "gisette & 0.23 & 0.29 & 0.25 & 0.27 & 6743.26 & 6388.56 & 5640.81 & 6733.69 \\\\\n",
      "realsim & 30.11 & 29.80 & 30.60 & 26.68 & 13681.97 & 13381.56 & 11341.31 & 10057.42 \\\\\n",
      "letter & 0.00 & 0.00 & 0.00 & 0.00 & 43.15 & 46.01 & 41.50 & 38.72 \\\\\n",
      "epsilon & 12.67 & 12.30 & 10.36 & 12.28 & 4853.63 & 4395.76 & 4105.53 & 3621.99 \\\\\n",
      "radar & 0.14 & 0.15 & 0.16 & 0.15 & 308.61 & 274.06 & 236.73 & 299.12 \\\\\n"
     ]
    }
   ],
   "source": [
    "import re\n",
    "import numpy as np\n",
    "import os\n",
    "import sys\n",
    "\n",
    "os.chdir(\"/home/zhaomin/code/VertiBench\")\n",
    "\n",
    "datasets = ['covtype', 'msd', 'gisette', 'realsim', 'letter', 'epsilon', 'radar']\n",
    "keys = ['imp_0.1', 'imp_1.0', 'imp_10', 'imp_100', 'corr_0.0', 'corr_0.3', 'corr_0.6', 'corr_1.0']\n",
    "\n",
    "table = []\n",
    "\n",
    "for dataset in datasets:\n",
    "    row = [dataset]\n",
    "    for key in keys:\n",
    "        time_summary = []\n",
    "        for seed in range(1):\n",
    "            file_name = f\"_out/time/{dataset}_{key}_seed{seed}.txt\"\n",
    "            with open(file_name, 'r') as f:\n",
    "                lines = f.readlines()\n",
    "                # match the time cost value in the following format.\n",
    "                # \"Time cost: 0.21s\"\n",
    "                # extract 0.21 from this line, match the key text \"Time cost: \" and the unit \"s\"\n",
    "                pattern = re.compile(r\"Time cost: (\\d+\\.\\d+)s\")\n",
    "                result = pattern.findall(\"\\n\".join(lines))\n",
    "                time_cost = float(result[0])\n",
    "                time_summary.append(time_cost)\n",
    "        mean_time = np.mean(time_summary)\n",
    "        # print(f\"{dataset}_{key}: {mean_time}\")\n",
    "        cell = rf\"{mean_time:.2f}\"\n",
    "        row.append(cell)\n",
    "    table.append(' & '.join(row) + r' \\\\')\n",
    "\n",
    "print('\\n'.join(table))\n",
    "\n",
    "\n"
   ]
  },
  {
   "cell_type": "code",
   "execution_count": 2,
   "outputs": [
    {
     "name": "stdout",
     "output_type": "stream",
     "text": [
      "Collecting numpy\r\n",
      "  Downloading numpy-1.24.3-cp310-cp310-manylinux_2_17_x86_64.manylinux2014_x86_64.whl (17.3 MB)\r\n",
      "\u001B[2K     \u001B[38;2;114;156;31m━━━━━━━━━━━━━━━━━━━━━━━━━━━━━━━━━━━━━━━━\u001B[0m \u001B[32m17.3/17.3 MB\u001B[0m \u001B[31m6.1 MB/s\u001B[0m eta \u001B[36m0:00:00\u001B[0mm eta \u001B[36m0:00:01\u001B[0m0:01\u001B[0m:01\u001B[0m\r\n",
      "\u001B[?25hInstalling collected packages: numpy\r\n",
      "Successfully installed numpy-1.24.3\r\n",
      "\r\n",
      "\u001B[1m[\u001B[0m\u001B[34;49mnotice\u001B[0m\u001B[1;39;49m]\u001B[0m\u001B[39;49m A new release of pip is available: \u001B[0m\u001B[31;49m23.0.1\u001B[0m\u001B[39;49m -> \u001B[0m\u001B[32;49m23.1.2\u001B[0m\r\n",
      "\u001B[1m[\u001B[0m\u001B[34;49mnotice\u001B[0m\u001B[1;39;49m]\u001B[0m\u001B[39;49m To update, run: \u001B[0m\u001B[32;49mpip install --upgrade pip\u001B[0m\r\n"
     ]
    }
   ],
   "source": [],
   "metadata": {
    "collapsed": false,
    "ExecuteTime": {
     "end_time": "2023-06-14T04:43:17.260002429Z",
     "start_time": "2023-06-14T04:43:11.457002712Z"
    }
   }
  }
 ],
 "metadata": {
  "kernelspec": {
   "display_name": "Python 3",
   "language": "python",
   "name": "python3"
  },
  "language_info": {
   "codemirror_mode": {
    "name": "ipython",
    "version": 2
   },
   "file_extension": ".py",
   "mimetype": "text/x-python",
   "name": "python",
   "nbconvert_exporter": "python",
   "pygments_lexer": "ipython2",
   "version": "2.7.6"
  }
 },
 "nbformat": 4,
 "nbformat_minor": 0
}
