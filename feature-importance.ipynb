{
 "cells": [
  {
   "cell_type": "code",
   "execution_count": 14,
   "outputs": [
    {
     "name": "stdout",
     "output_type": "stream",
     "text": [
      "The autoreload extension is already loaded. To reload it, use:\n",
      "  %reload_ext autoreload\n"
     ]
    }
   ],
   "source": [
    "import os\n",
    "import sys\n",
    "\n",
    "import numpy as np\n",
    "import pandas as pd\n",
    "import matplotlib.pyplot as plt\n",
    "import xgboost as xgb\n",
    "import shap\n",
    "\n",
    "import scipy\n",
    "from scipy.stats import entropy\n",
    "from scipy.stats import spearmanr\n",
    "from scipy.cluster import hierarchy\n",
    "from scipy.spatial.distance import squareform\n",
    "\n",
    "import sklearn\n",
    "from sklearn.datasets import make_classification\n",
    "from sklearn.decomposition import PCA\n",
    "from sklearn.inspection import permutation_importance\n",
    "\n",
    "# In this project, always use fstring for formatting, which requires Python 3.6+\n",
    "\n",
    "# automatically reload modules when they have changed\n",
    "%load_ext autoreload\n",
    "%autoreload 2"
   ],
   "metadata": {
    "collapsed": false,
    "pycharm": {
     "name": "#%%\n"
    },
    "ExecuteTime": {
     "end_time": "2023-05-05T10:46:52.972489701Z",
     "start_time": "2023-05-05T10:46:52.902298307Z"
    }
   }
  },
  {
   "cell_type": "code",
   "execution_count": 15,
   "outputs": [
    {
     "name": "stdout",
     "output_type": "stream",
     "text": [
      "(10000, 10) (10000,)\n"
     ]
    }
   ],
   "source": [
    "# Generate a binary classification dataset with correlated features and a target\n",
    "X, y = make_classification(n_samples=10000, n_features=10, n_informative=3, n_redundant=4, n_repeated=3, n_classes=2, random_state=0, shuffle=False)\n",
    "print(X.shape, y.shape)"
   ],
   "metadata": {
    "collapsed": false,
    "pycharm": {
     "name": "#%%\n"
    },
    "ExecuteTime": {
     "end_time": "2023-05-05T10:46:53.117031995Z",
     "start_time": "2023-05-05T10:46:53.078765861Z"
    }
   }
  },
  {
   "cell_type": "code",
   "execution_count": 16,
   "outputs": [
    {
     "data": {
      "text/plain": "<Figure size 640x480 with 1 Axes>",
      "image/png": "[encoded data removed]"
     },
     "metadata": {},
     "output_type": "display_data"
    },
    {
     "data": {
      "text/plain": "<Figure size 500x500 with 2 Axes>",
      "image/png": "[encoded data removed]"
     },
     "metadata": {},
     "output_type": "display_data"
    }
   ],
   "source": [
    "# calculate correlation matrix\n",
    "corr = spearmanr(X).correlation\n",
    "corr = (corr + corr.T) / 2\n",
    "np.fill_diagonal(corr, 1)\n",
    "\n",
    "distance_matrix = 1 - np.abs(corr)\n",
    "dist_linkage = hierarchy.ward(squareform(distance_matrix))\n",
    "dendro = hierarchy.dendrogram(dist_linkage, labels=range(X.shape[1]), orientation='top')\n",
    "dendro_idx = np.arange(0, len(dendro['ivl']))\n",
    "\n",
    "# plot dendro and dendro_idx in one figure. dendro in left; dendro_idx in right\n",
    "fig, ax = plt.subplots(1, 2, figsize=(5, 5))\n",
    "ax[0].imshow(corr, cmap='hot')\n",
    "ax[1].imshow(dendro_idx.reshape(1, -1), cmap='hot')\n",
    "plt.show()"
   ],
   "metadata": {
    "collapsed": false,
    "pycharm": {
     "name": "#%%\n"
    },
    "ExecuteTime": {
     "end_time": "2023-05-05T10:46:53.539705164Z",
     "start_time": "2023-05-05T10:46:53.330077027Z"
    }
   }
  },
  {
   "cell_type": "markdown",
   "source": [
    "# observation\n",
    "Informative features: 0, 1, 2\n",
    "Redundant features: 3, 4, 5, 6\n",
    "Repeated features: 7, 8, 9\n",
    "\n",
    "By setting the threshold to 0.5, the features are clustered n 3 clusters. Each cluster contains an informative feature and some other features."
   ],
   "metadata": {
    "collapsed": false,
    "pycharm": {
     "name": "#%% md\n"
    }
   }
  },
  {
   "cell_type": "code",
   "execution_count": 17,
   "outputs": [
    {
     "name": "stdout",
     "output_type": "stream",
     "text": [
      "{1: [0, 5], 2: [2, 3, 6, 9], 3: [1, 4, 7, 8]}\n",
      "[1 3 2 2 3 1 2 3 3 2]\n"
     ]
    }
   ],
   "source": [
    "# cluster the features based on the dendrogram\n",
    "cluster_threshold = 0.5\n",
    "cluster_ids = hierarchy.fcluster(dist_linkage, cluster_threshold, criterion='distance')\n",
    "cluster_ids_to_feature_ids = {cluster_id: list(np.where(cluster_ids == cluster_id)[0]) for cluster_id in np.unique(cluster_ids)}\n",
    "print(cluster_ids_to_feature_ids)\n",
    "print(cluster_ids)"
   ],
   "metadata": {
    "collapsed": false,
    "pycharm": {
     "name": "#%%\n"
    },
    "ExecuteTime": {
     "end_time": "2023-05-05T10:46:54.868266772Z",
     "start_time": "2023-05-05T10:46:54.836805959Z"
    }
   }
  },
  {
   "cell_type": "code",
   "execution_count": 18,
   "outputs": [
    {
     "name": "stdout",
     "output_type": "stream",
     "text": [
      "Done training\n",
      "[0.06268 0.01796 0.0024  0.003   0.24332 0.33008 0.00224 0.      0.\n",
      " 0.     ]\n",
      "[0.07803551 0.05109254 0.01938937 0.01190284 0.5326214  0.26691148\n",
      " 0.04004691 0.         0.         0.        ]\n"
     ]
    }
   ],
   "source": [
    "# train a xgboost model\n",
    "model = xgb.XGBClassifier(n_estimators=10, random_state=0)\n",
    "model.fit(X, y)\n",
    "print(\"Done training\")\n",
    "scores = permutation_importance(model, X, y, n_repeats=5, random_state=0)\n",
    "print(scores.importances_mean)\n",
    "print(model.feature_importances_)"
   ],
   "metadata": {
    "collapsed": false,
    "pycharm": {
     "name": "#%%\n"
    },
    "ExecuteTime": {
     "end_time": "2023-05-05T10:46:55.610586357Z",
     "start_time": "2023-05-05T10:46:55.383881862Z"
    }
   }
  },
  {
   "cell_type": "code",
   "execution_count": 19,
   "outputs": [
    {
     "name": "stdout",
     "output_type": "stream",
     "text": [
      "Cluster 1, feature 0, score 0.3058\n",
      "Cluster 1, feature 5, score 0.3265\n",
      "Cluster 2, feature 2, score 0.0245\n",
      "Cluster 2, feature 3, score 0.0023\n",
      "Cluster 2, feature 6, score 0.0022\n",
      "Cluster 2, feature 9, score 0.0000\n",
      "Cluster 3, feature 1, score 0.2234\n",
      "Cluster 3, feature 4, score 0.2433\n",
      "Cluster 3, feature 7, score 0.0000\n",
      "Cluster 3, feature 8, score 0.0000\n",
      "Cluster 1: ['0.3058', '0.3265']\n",
      "Cluster 2: ['0.0245', '0.0023', '0.0022', '0.0000']\n",
      "Cluster 3: ['0.2234', '0.2433', '0.0000', '0.0000']\n"
     ]
    }
   ],
   "source": [
    "feature_importance = {}\n",
    "for cluster_id, feature_ids in cluster_ids_to_feature_ids.items():\n",
    "    scores = []\n",
    "    for i, fid in enumerate(feature_ids):\n",
    "        feature = X[:, fid].reshape(-1, 1)\n",
    "        excluding_features = feature_ids[i:]  # excluding all features in cluster after the current feature (including itself)\n",
    "        X_residual = np.delete(X, excluding_features, axis=1)\n",
    "        X_residual_self = np.concatenate((X_residual, feature), axis=1)\n",
    "        # print(X_residual_self.shape)\n",
    "        model = xgb.XGBClassifier(n_estimators=10, random_state=0)\n",
    "        model.fit(X_residual_self, y)\n",
    "        score_raw = permutation_importance(model, X_residual_self, y, n_repeats=5, random_state=0)\n",
    "        # print(score_raw.importances_mean)\n",
    "        # print(model.feature_importances_)\n",
    "        score = score_raw.importances_mean[-1]       # first column is the score of this feature\n",
    "        scores.append(score)\n",
    "        print(f\"Cluster {cluster_id}, feature {fid}, score {score:.4f}\")\n",
    "    feature_importance[cluster_id] = scores\n",
    "\n",
    "for cluster_id, scores in feature_importance.items():\n",
    "    # each score is printed with 4 decimal places\n",
    "    print(f\"Cluster {cluster_id}: {[f'{score:.4f}' for score in scores]}\")"
   ],
   "metadata": {
    "collapsed": false,
    "pycharm": {
     "name": "#%%\n"
    },
    "ExecuteTime": {
     "end_time": "2023-05-05T10:46:57.597488147Z",
     "start_time": "2023-05-05T10:46:55.770555798Z"
    }
   }
  },
  {
   "cell_type": "markdown",
   "source": [
    "# observation\n",
    "In each cluster, the first feature is the most important feature. The second feature is the second most important feature. This is because of the correlation between features."
   ],
   "metadata": {
    "collapsed": false,
    "pycharm": {
     "name": "#%% md\n"
    }
   }
  },
  {
   "cell_type": "code",
   "execution_count": 20,
   "outputs": [
    {
     "name": "stdout",
     "output_type": "stream",
     "text": [
      "[5.039 4.961]\n",
      "[3.12721585 3.12721585]\n",
      "2.679\n",
      "[[0 0 0 ... 0 0 0]\n",
      " [1 1 1 ... 1 1 1]\n",
      " [1 0 1 ... 1 1 1]\n",
      " ...\n",
      " [0 0 0 ... 0 0 0]\n",
      " [1 1 1 ... 1 0 1]\n",
      " [1 1 1 ... 0 1 1]]\n"
     ]
    }
   ],
   "source": [
    " # randomly split the features into two parties according to dirichlet distribution\n",
    "\n",
    "n_trials = 1000\n",
    "n_parties = 2\n",
    "dir_beta = 1\n",
    "\n",
    "def random_split_feature_ids(dir_beta, cluster_ids_to_feature_ids, n_parties):\n",
    "    # shuffle the features in each cluster\n",
    "    cid_to_fid_perm = {}\n",
    "    for cluster_id, feature_ids in cluster_ids_to_feature_ids.items():\n",
    "        cid_to_fid_perm[cluster_id] = list(np.random.permutation(feature_ids))\n",
    "\n",
    "    ratios = np.random.dirichlet(np.ones(n_parties) * dir_beta)\n",
    "    n_features = np.zeros(n_parties, dtype=int)\n",
    "    fid_to_party_id = -np.ones(X.shape[1], dtype=int)\n",
    "    # assign the features to each party according to the ratio\n",
    "    while np.sum(n_features) < X.shape[1]:\n",
    "        party_ids = np.random.choice(n_parties, size=len(cid_to_fid_perm), p=ratios) # randomly assign each cluster a party ID\n",
    "        # select and remove the last feature in each cluster\n",
    "        feature_ids = [cid_to_fid_perm[cluster_id].pop() for cluster_id in cid_to_fid_perm]\n",
    "        fid_to_party_id[feature_ids] = party_ids\n",
    "\n",
    "        # update the number of features in each party\n",
    "        for party_id in party_ids:\n",
    "            n_features[party_id] += 1\n",
    "        # update ratios\n",
    "        ratios = np.random.dirichlet(np.ones(n_parties) * (dir_beta + n_features))\n",
    "        # remove empty clusters\n",
    "        cid_to_fid_perm = {cluster_id: feature_ids for cluster_id, feature_ids in cid_to_fid_perm.items() if len(feature_ids) > 0}\n",
    "        # print(ratios)\n",
    "        # print(party_ids)\n",
    "        # print(feature_ids)\n",
    "        # print(n_features)\n",
    "    return fid_to_party_id\n",
    "\n",
    "fid_to_pid_all = np.zeros((n_trials, X.shape[1]), dtype=int)\n",
    "pid_cnt = np.zeros((n_trials, n_parties), dtype=int)\n",
    "for i in range(n_trials):\n",
    "    fid_to_pid_all[i] = random_split_feature_ids(dir_beta, cluster_ids_to_feature_ids, n_parties)\n",
    "    for pid in fid_to_pid_all[i]:\n",
    "        pid_cnt[i, pid] += 1\n",
    "print(np.mean(pid_cnt, axis=0))\n",
    "print(np.std(pid_cnt, axis=0))\n",
    "print(np.mean(np.std(pid_cnt, axis=1)))\n",
    "print(fid_to_pid_all)\n",
    "\n"
   ],
   "metadata": {
    "collapsed": false,
    "pycharm": {
     "name": "#%%\n"
    },
    "ExecuteTime": {
     "end_time": "2023-05-05T10:46:57.824632251Z",
     "start_time": "2023-05-05T10:46:57.598361001Z"
    }
   }
  },
  {
   "cell_type": "code",
   "execution_count": 21,
   "outputs": [],
   "source": [
    "# random split features into two parties with new method (alpha, beta)\n",
    "def split_feature_ids(cluster_id_to_feature_ids, n_parties, alpha, beta):\n",
    "    feature_id_to_cluster_id = {}\n",
    "    for cluster_id, feature_ids in cluster_ids_to_feature_ids.items():\n",
    "        for feature_id in feature_ids:\n",
    "            feature_id_to_cluster_id[feature_id] = cluster_id\n",
    "\n",
    "    # initialize alpha matrix as the value of alpha (size n_parties x n_features)\n",
    "    alpha_matrix = np.ones((n_parties, len(feature_id_to_cluster_id))) * alpha\n",
    "\n",
    "    feature_id_to_party_id = -np.ones(X.shape[1], dtype=int)\n",
    "    for feature_id, cluster_id in feature_id_to_cluster_id.items():\n",
    "        # obtain alpha parameters for the current feature\n",
    "        alpha_vector = alpha_matrix[:, feature_id]\n",
    "        ratios = np.random.dirichlet(alpha_vector)\n",
    "        party_id = np.random.choice(n_parties, p=ratios)\n",
    "        feature_id_to_party_id[feature_id] = party_id\n",
    "\n",
    "        # update alpha matrix - multiply the alpha of the other features in the same cluster by beta\n",
    "        for feature_id_2 in cluster_id_to_feature_ids[cluster_id]:\n",
    "            if feature_id_2 != feature_id:\n",
    "                alpha_matrix[party_id, feature_id_2] *= beta\n",
    "\n",
    "    return feature_id_to_party_id\n"
   ],
   "metadata": {
    "collapsed": false,
    "pycharm": {
     "name": "#%%\n"
    },
    "ExecuteTime": {
     "end_time": "2023-05-05T10:46:57.842948030Z",
     "start_time": "2023-05-05T10:46:57.825936631Z"
    }
   }
  },
  {
   "cell_type": "code",
   "execution_count": 22,
   "outputs": [
    {
     "name": "stdout",
     "output_type": "stream",
     "text": [
      "[5.017 4.983]\n",
      "[2.34109184 2.34109184]\n",
      "1.891\n",
      "[[0 1 1 ... 1 1 1]\n",
      " [0 1 1 ... 1 1 1]\n",
      " [0 1 1 ... 1 0 1]\n",
      " ...\n",
      " [1 1 0 ... 1 0 0]\n",
      " [0 1 1 ... 1 1 1]\n",
      " [1 1 1 ... 0 1 0]]\n"
     ]
    }
   ],
   "source": [
    "\n",
    "n_trials = 1000\n",
    "n_parties = 2\n",
    "alpha = 1\n",
    "beta = 2\n",
    "fid_to_pid_all = np.zeros((n_trials, X.shape[1]), dtype=int)\n",
    "pid_cnt = np.zeros((n_trials, n_parties), dtype=int)\n",
    "for i in range(n_trials):\n",
    "    fid_to_pid_all[i] = split_feature_ids(cluster_ids_to_feature_ids, n_parties, alpha, beta)\n",
    "    for pid in fid_to_pid_all[i]:\n",
    "        pid_cnt[i, pid] += 1\n",
    "print(np.mean(pid_cnt, axis=0))\n",
    "print(np.std(pid_cnt, axis=0))\n",
    "print(np.mean(np.std(pid_cnt, axis=1)))\n",
    "print(fid_to_pid_all)\n",
    "\n"
   ],
   "metadata": {
    "collapsed": false,
    "pycharm": {
     "name": "#%%\n"
    },
    "ExecuteTime": {
     "end_time": "2023-05-05T10:46:59.099187527Z",
     "start_time": "2023-05-05T10:46:58.840818976Z"
    }
   }
  },
  {
   "cell_type": "code",
   "execution_count": 23,
   "outputs": [
    {
     "ename": "URLError",
     "evalue": "<urlopen error Remote end closed connection without response>",
     "output_type": "error",
     "traceback": [
      "\u001B[0;31m---------------------------------------------------------------------------\u001B[0m",
      "\u001B[0;31mRemoteDisconnected\u001B[0m                        Traceback (most recent call last)",
      "File \u001B[0;32m/usr/lib/python3.10/urllib/request.py:1348\u001B[0m, in \u001B[0;36mAbstractHTTPHandler.do_open\u001B[0;34m(self, http_class, req, **http_conn_args)\u001B[0m\n\u001B[1;32m   1347\u001B[0m \u001B[38;5;28;01mtry\u001B[39;00m:\n\u001B[0;32m-> 1348\u001B[0m     \u001B[43mh\u001B[49m\u001B[38;5;241;43m.\u001B[39;49m\u001B[43mrequest\u001B[49m\u001B[43m(\u001B[49m\u001B[43mreq\u001B[49m\u001B[38;5;241;43m.\u001B[39;49m\u001B[43mget_method\u001B[49m\u001B[43m(\u001B[49m\u001B[43m)\u001B[49m\u001B[43m,\u001B[49m\u001B[43m \u001B[49m\u001B[43mreq\u001B[49m\u001B[38;5;241;43m.\u001B[39;49m\u001B[43mselector\u001B[49m\u001B[43m,\u001B[49m\u001B[43m \u001B[49m\u001B[43mreq\u001B[49m\u001B[38;5;241;43m.\u001B[39;49m\u001B[43mdata\u001B[49m\u001B[43m,\u001B[49m\u001B[43m \u001B[49m\u001B[43mheaders\u001B[49m\u001B[43m,\u001B[49m\n\u001B[1;32m   1349\u001B[0m \u001B[43m              \u001B[49m\u001B[43mencode_chunked\u001B[49m\u001B[38;5;241;43m=\u001B[39;49m\u001B[43mreq\u001B[49m\u001B[38;5;241;43m.\u001B[39;49m\u001B[43mhas_header\u001B[49m\u001B[43m(\u001B[49m\u001B[38;5;124;43m'\u001B[39;49m\u001B[38;5;124;43mTransfer-encoding\u001B[39;49m\u001B[38;5;124;43m'\u001B[39;49m\u001B[43m)\u001B[49m\u001B[43m)\u001B[49m\n\u001B[1;32m   1350\u001B[0m \u001B[38;5;28;01mexcept\u001B[39;00m \u001B[38;5;167;01mOSError\u001B[39;00m \u001B[38;5;28;01mas\u001B[39;00m err: \u001B[38;5;66;03m# timeout error\u001B[39;00m\n",
      "File \u001B[0;32m/usr/lib/python3.10/http/client.py:1282\u001B[0m, in \u001B[0;36mHTTPConnection.request\u001B[0;34m(self, method, url, body, headers, encode_chunked)\u001B[0m\n\u001B[1;32m   1281\u001B[0m \u001B[38;5;250m\u001B[39m\u001B[38;5;124;03m\"\"\"Send a complete request to the server.\"\"\"\u001B[39;00m\n\u001B[0;32m-> 1282\u001B[0m \u001B[38;5;28;43mself\u001B[39;49m\u001B[38;5;241;43m.\u001B[39;49m\u001B[43m_send_request\u001B[49m\u001B[43m(\u001B[49m\u001B[43mmethod\u001B[49m\u001B[43m,\u001B[49m\u001B[43m \u001B[49m\u001B[43murl\u001B[49m\u001B[43m,\u001B[49m\u001B[43m \u001B[49m\u001B[43mbody\u001B[49m\u001B[43m,\u001B[49m\u001B[43m \u001B[49m\u001B[43mheaders\u001B[49m\u001B[43m,\u001B[49m\u001B[43m \u001B[49m\u001B[43mencode_chunked\u001B[49m\u001B[43m)\u001B[49m\n",
      "File \u001B[0;32m/usr/lib/python3.10/http/client.py:1328\u001B[0m, in \u001B[0;36mHTTPConnection._send_request\u001B[0;34m(self, method, url, body, headers, encode_chunked)\u001B[0m\n\u001B[1;32m   1327\u001B[0m     body \u001B[38;5;241m=\u001B[39m _encode(body, \u001B[38;5;124m'\u001B[39m\u001B[38;5;124mbody\u001B[39m\u001B[38;5;124m'\u001B[39m)\n\u001B[0;32m-> 1328\u001B[0m \u001B[38;5;28;43mself\u001B[39;49m\u001B[38;5;241;43m.\u001B[39;49m\u001B[43mendheaders\u001B[49m\u001B[43m(\u001B[49m\u001B[43mbody\u001B[49m\u001B[43m,\u001B[49m\u001B[43m \u001B[49m\u001B[43mencode_chunked\u001B[49m\u001B[38;5;241;43m=\u001B[39;49m\u001B[43mencode_chunked\u001B[49m\u001B[43m)\u001B[49m\n",
      "File \u001B[0;32m/usr/lib/python3.10/http/client.py:1277\u001B[0m, in \u001B[0;36mHTTPConnection.endheaders\u001B[0;34m(self, message_body, encode_chunked)\u001B[0m\n\u001B[1;32m   1276\u001B[0m     \u001B[38;5;28;01mraise\u001B[39;00m CannotSendHeader()\n\u001B[0;32m-> 1277\u001B[0m \u001B[38;5;28;43mself\u001B[39;49m\u001B[38;5;241;43m.\u001B[39;49m\u001B[43m_send_output\u001B[49m\u001B[43m(\u001B[49m\u001B[43mmessage_body\u001B[49m\u001B[43m,\u001B[49m\u001B[43m \u001B[49m\u001B[43mencode_chunked\u001B[49m\u001B[38;5;241;43m=\u001B[39;49m\u001B[43mencode_chunked\u001B[49m\u001B[43m)\u001B[49m\n",
      "File \u001B[0;32m/usr/lib/python3.10/http/client.py:1037\u001B[0m, in \u001B[0;36mHTTPConnection._send_output\u001B[0;34m(self, message_body, encode_chunked)\u001B[0m\n\u001B[1;32m   1036\u001B[0m \u001B[38;5;28;01mdel\u001B[39;00m \u001B[38;5;28mself\u001B[39m\u001B[38;5;241m.\u001B[39m_buffer[:]\n\u001B[0;32m-> 1037\u001B[0m \u001B[38;5;28;43mself\u001B[39;49m\u001B[38;5;241;43m.\u001B[39;49m\u001B[43msend\u001B[49m\u001B[43m(\u001B[49m\u001B[43mmsg\u001B[49m\u001B[43m)\u001B[49m\n\u001B[1;32m   1039\u001B[0m \u001B[38;5;28;01mif\u001B[39;00m message_body \u001B[38;5;129;01mis\u001B[39;00m \u001B[38;5;129;01mnot\u001B[39;00m \u001B[38;5;28;01mNone\u001B[39;00m:\n\u001B[1;32m   1040\u001B[0m \n\u001B[1;32m   1041\u001B[0m     \u001B[38;5;66;03m# create a consistent interface to message_body\u001B[39;00m\n",
      "File \u001B[0;32m/usr/lib/python3.10/http/client.py:975\u001B[0m, in \u001B[0;36mHTTPConnection.send\u001B[0;34m(self, data)\u001B[0m\n\u001B[1;32m    974\u001B[0m \u001B[38;5;28;01mif\u001B[39;00m \u001B[38;5;28mself\u001B[39m\u001B[38;5;241m.\u001B[39mauto_open:\n\u001B[0;32m--> 975\u001B[0m     \u001B[38;5;28;43mself\u001B[39;49m\u001B[38;5;241;43m.\u001B[39;49m\u001B[43mconnect\u001B[49m\u001B[43m(\u001B[49m\u001B[43m)\u001B[49m\n\u001B[1;32m    976\u001B[0m \u001B[38;5;28;01melse\u001B[39;00m:\n",
      "File \u001B[0;32m/usr/lib/python3.10/http/client.py:1447\u001B[0m, in \u001B[0;36mHTTPSConnection.connect\u001B[0;34m(self)\u001B[0m\n\u001B[1;32m   1445\u001B[0m \u001B[38;5;124m\"\u001B[39m\u001B[38;5;124mConnect to a host on a given (SSL) port.\u001B[39m\u001B[38;5;124m\"\u001B[39m\n\u001B[0;32m-> 1447\u001B[0m \u001B[38;5;28;43msuper\u001B[39;49m\u001B[43m(\u001B[49m\u001B[43m)\u001B[49m\u001B[38;5;241;43m.\u001B[39;49m\u001B[43mconnect\u001B[49m\u001B[43m(\u001B[49m\u001B[43m)\u001B[49m\n\u001B[1;32m   1449\u001B[0m \u001B[38;5;28;01mif\u001B[39;00m \u001B[38;5;28mself\u001B[39m\u001B[38;5;241m.\u001B[39m_tunnel_host:\n",
      "File \u001B[0;32m/usr/lib/python3.10/http/client.py:951\u001B[0m, in \u001B[0;36mHTTPConnection.connect\u001B[0;34m(self)\u001B[0m\n\u001B[1;32m    950\u001B[0m \u001B[38;5;28;01mif\u001B[39;00m \u001B[38;5;28mself\u001B[39m\u001B[38;5;241m.\u001B[39m_tunnel_host:\n\u001B[0;32m--> 951\u001B[0m     \u001B[38;5;28;43mself\u001B[39;49m\u001B[38;5;241;43m.\u001B[39;49m\u001B[43m_tunnel\u001B[49m\u001B[43m(\u001B[49m\u001B[43m)\u001B[49m\n",
      "File \u001B[0;32m/usr/lib/python3.10/http/client.py:920\u001B[0m, in \u001B[0;36mHTTPConnection._tunnel\u001B[0;34m(self)\u001B[0m\n\u001B[1;32m    919\u001B[0m response \u001B[38;5;241m=\u001B[39m \u001B[38;5;28mself\u001B[39m\u001B[38;5;241m.\u001B[39mresponse_class(\u001B[38;5;28mself\u001B[39m\u001B[38;5;241m.\u001B[39msock, method\u001B[38;5;241m=\u001B[39m\u001B[38;5;28mself\u001B[39m\u001B[38;5;241m.\u001B[39m_method)\n\u001B[0;32m--> 920\u001B[0m (version, code, message) \u001B[38;5;241m=\u001B[39m \u001B[43mresponse\u001B[49m\u001B[38;5;241;43m.\u001B[39;49m\u001B[43m_read_status\u001B[49m\u001B[43m(\u001B[49m\u001B[43m)\u001B[49m\n\u001B[1;32m    922\u001B[0m \u001B[38;5;28;01mif\u001B[39;00m code \u001B[38;5;241m!=\u001B[39m http\u001B[38;5;241m.\u001B[39mHTTPStatus\u001B[38;5;241m.\u001B[39mOK:\n",
      "File \u001B[0;32m/usr/lib/python3.10/http/client.py:287\u001B[0m, in \u001B[0;36mHTTPResponse._read_status\u001B[0;34m(self)\u001B[0m\n\u001B[1;32m    284\u001B[0m \u001B[38;5;28;01mif\u001B[39;00m \u001B[38;5;129;01mnot\u001B[39;00m line:\n\u001B[1;32m    285\u001B[0m     \u001B[38;5;66;03m# Presumably, the server closed the connection before\u001B[39;00m\n\u001B[1;32m    286\u001B[0m     \u001B[38;5;66;03m# sending a valid response.\u001B[39;00m\n\u001B[0;32m--> 287\u001B[0m     \u001B[38;5;28;01mraise\u001B[39;00m RemoteDisconnected(\u001B[38;5;124m\"\u001B[39m\u001B[38;5;124mRemote end closed connection without\u001B[39m\u001B[38;5;124m\"\u001B[39m\n\u001B[1;32m    288\u001B[0m                              \u001B[38;5;124m\"\u001B[39m\u001B[38;5;124m response\u001B[39m\u001B[38;5;124m\"\u001B[39m)\n\u001B[1;32m    289\u001B[0m \u001B[38;5;28;01mtry\u001B[39;00m:\n",
      "\u001B[0;31mRemoteDisconnected\u001B[0m: Remote end closed connection without response",
      "\nDuring handling of the above exception, another exception occurred:\n",
      "\u001B[0;31mURLError\u001B[0m                                  Traceback (most recent call last)",
      "Cell \u001B[0;32mIn[23], line 2\u001B[0m\n\u001B[1;32m      1\u001B[0m \u001B[38;5;66;03m# get standardized data\u001B[39;00m\n\u001B[0;32m----> 2\u001B[0m X, y \u001B[38;5;241m=\u001B[39m \u001B[43mshap\u001B[49m\u001B[38;5;241;43m.\u001B[39;49m\u001B[43mdatasets\u001B[49m\u001B[38;5;241;43m.\u001B[39;49m\u001B[43mcalifornia\u001B[49m\u001B[43m(\u001B[49m\u001B[43mn_points\u001B[49m\u001B[38;5;241;43m=\u001B[39;49m\u001B[38;5;241;43m1000\u001B[39;49m\u001B[43m)\u001B[49m\n\u001B[1;32m      3\u001B[0m X_sample \u001B[38;5;241m=\u001B[39m shap\u001B[38;5;241m.\u001B[39msample(X, \u001B[38;5;241m100\u001B[39m)\n\u001B[1;32m      5\u001B[0m model \u001B[38;5;241m=\u001B[39m sklearn\u001B[38;5;241m.\u001B[39mlinear_model\u001B[38;5;241m.\u001B[39mLinearRegression()\n",
      "File \u001B[0;32m~/project/VertiBench/env/lib/python3.10/site-packages/shap/datasets.py:42\u001B[0m, in \u001B[0;36mcalifornia\u001B[0;34m(display, n_points)\u001B[0m\n\u001B[1;32m     39\u001B[0m \u001B[38;5;28;01mdef\u001B[39;00m \u001B[38;5;21mcalifornia\u001B[39m(display\u001B[38;5;241m=\u001B[39m\u001B[38;5;28;01mFalse\u001B[39;00m, n_points\u001B[38;5;241m=\u001B[39m\u001B[38;5;28;01mNone\u001B[39;00m): \u001B[38;5;66;03m# pylint: disable=unused-argument\u001B[39;00m\n\u001B[1;32m     40\u001B[0m \u001B[38;5;250m    \u001B[39m\u001B[38;5;124;03m\"\"\" Return the california housing data in a nice package. \"\"\"\u001B[39;00m\n\u001B[0;32m---> 42\u001B[0m     d \u001B[38;5;241m=\u001B[39m \u001B[43msklearn\u001B[49m\u001B[38;5;241;43m.\u001B[39;49m\u001B[43mdatasets\u001B[49m\u001B[38;5;241;43m.\u001B[39;49m\u001B[43mfetch_california_housing\u001B[49m\u001B[43m(\u001B[49m\u001B[43m)\u001B[49m\n\u001B[1;32m     43\u001B[0m     df \u001B[38;5;241m=\u001B[39m pd\u001B[38;5;241m.\u001B[39mDataFrame(data\u001B[38;5;241m=\u001B[39md\u001B[38;5;241m.\u001B[39mdata, columns\u001B[38;5;241m=\u001B[39md\u001B[38;5;241m.\u001B[39mfeature_names) \u001B[38;5;66;03m# pylint: disable=E1101\u001B[39;00m\n\u001B[1;32m     44\u001B[0m     target \u001B[38;5;241m=\u001B[39m d\u001B[38;5;241m.\u001B[39mtarget\n",
      "File \u001B[0;32m~/project/VertiBench/env/lib/python3.10/site-packages/sklearn/datasets/_california_housing.py:138\u001B[0m, in \u001B[0;36mfetch_california_housing\u001B[0;34m(data_home, download_if_missing, return_X_y, as_frame)\u001B[0m\n\u001B[1;32m    132\u001B[0m     \u001B[38;5;28;01mraise\u001B[39;00m \u001B[38;5;167;01mIOError\u001B[39;00m(\u001B[38;5;124m\"\u001B[39m\u001B[38;5;124mData not found and `download_if_missing` is False\u001B[39m\u001B[38;5;124m\"\u001B[39m)\n\u001B[1;32m    134\u001B[0m logger\u001B[38;5;241m.\u001B[39minfo(\n\u001B[1;32m    135\u001B[0m     \u001B[38;5;124m\"\u001B[39m\u001B[38;5;124mDownloading Cal. housing from \u001B[39m\u001B[38;5;132;01m{}\u001B[39;00m\u001B[38;5;124m to \u001B[39m\u001B[38;5;132;01m{}\u001B[39;00m\u001B[38;5;124m\"\u001B[39m\u001B[38;5;241m.\u001B[39mformat(ARCHIVE\u001B[38;5;241m.\u001B[39murl, data_home)\n\u001B[1;32m    136\u001B[0m )\n\u001B[0;32m--> 138\u001B[0m archive_path \u001B[38;5;241m=\u001B[39m \u001B[43m_fetch_remote\u001B[49m\u001B[43m(\u001B[49m\u001B[43mARCHIVE\u001B[49m\u001B[43m,\u001B[49m\u001B[43m \u001B[49m\u001B[43mdirname\u001B[49m\u001B[38;5;241;43m=\u001B[39;49m\u001B[43mdata_home\u001B[49m\u001B[43m)\u001B[49m\n\u001B[1;32m    140\u001B[0m \u001B[38;5;28;01mwith\u001B[39;00m tarfile\u001B[38;5;241m.\u001B[39mopen(mode\u001B[38;5;241m=\u001B[39m\u001B[38;5;124m\"\u001B[39m\u001B[38;5;124mr:gz\u001B[39m\u001B[38;5;124m\"\u001B[39m, name\u001B[38;5;241m=\u001B[39marchive_path) \u001B[38;5;28;01mas\u001B[39;00m f:\n\u001B[1;32m    141\u001B[0m     cal_housing \u001B[38;5;241m=\u001B[39m np\u001B[38;5;241m.\u001B[39mloadtxt(\n\u001B[1;32m    142\u001B[0m         f\u001B[38;5;241m.\u001B[39mextractfile(\u001B[38;5;124m\"\u001B[39m\u001B[38;5;124mCaliforniaHousing/cal_housing.data\u001B[39m\u001B[38;5;124m\"\u001B[39m), delimiter\u001B[38;5;241m=\u001B[39m\u001B[38;5;124m\"\u001B[39m\u001B[38;5;124m,\u001B[39m\u001B[38;5;124m\"\u001B[39m\n\u001B[1;32m    143\u001B[0m     )\n",
      "File \u001B[0;32m~/project/VertiBench/env/lib/python3.10/site-packages/sklearn/datasets/_base.py:1324\u001B[0m, in \u001B[0;36m_fetch_remote\u001B[0;34m(remote, dirname)\u001B[0m\n\u001B[1;32m   1302\u001B[0m \u001B[38;5;250m\u001B[39m\u001B[38;5;124;03m\"\"\"Helper function to download a remote dataset into path\u001B[39;00m\n\u001B[1;32m   1303\u001B[0m \n\u001B[1;32m   1304\u001B[0m \u001B[38;5;124;03mFetch a dataset pointed by remote's url, save into path using remote's\u001B[39;00m\n\u001B[0;32m   (...)\u001B[0m\n\u001B[1;32m   1320\u001B[0m \u001B[38;5;124;03m    Full path of the created file.\u001B[39;00m\n\u001B[1;32m   1321\u001B[0m \u001B[38;5;124;03m\"\"\"\u001B[39;00m\n\u001B[1;32m   1323\u001B[0m file_path \u001B[38;5;241m=\u001B[39m remote\u001B[38;5;241m.\u001B[39mfilename \u001B[38;5;28;01mif\u001B[39;00m dirname \u001B[38;5;129;01mis\u001B[39;00m \u001B[38;5;28;01mNone\u001B[39;00m \u001B[38;5;28;01melse\u001B[39;00m join(dirname, remote\u001B[38;5;241m.\u001B[39mfilename)\n\u001B[0;32m-> 1324\u001B[0m \u001B[43murlretrieve\u001B[49m\u001B[43m(\u001B[49m\u001B[43mremote\u001B[49m\u001B[38;5;241;43m.\u001B[39;49m\u001B[43murl\u001B[49m\u001B[43m,\u001B[49m\u001B[43m \u001B[49m\u001B[43mfile_path\u001B[49m\u001B[43m)\u001B[49m\n\u001B[1;32m   1325\u001B[0m checksum \u001B[38;5;241m=\u001B[39m _sha256(file_path)\n\u001B[1;32m   1326\u001B[0m \u001B[38;5;28;01mif\u001B[39;00m remote\u001B[38;5;241m.\u001B[39mchecksum \u001B[38;5;241m!=\u001B[39m checksum:\n",
      "File \u001B[0;32m/usr/lib/python3.10/urllib/request.py:241\u001B[0m, in \u001B[0;36murlretrieve\u001B[0;34m(url, filename, reporthook, data)\u001B[0m\n\u001B[1;32m    224\u001B[0m \u001B[38;5;250m\u001B[39m\u001B[38;5;124;03m\"\"\"\u001B[39;00m\n\u001B[1;32m    225\u001B[0m \u001B[38;5;124;03mRetrieve a URL into a temporary location on disk.\u001B[39;00m\n\u001B[1;32m    226\u001B[0m \n\u001B[0;32m   (...)\u001B[0m\n\u001B[1;32m    237\u001B[0m \u001B[38;5;124;03mdata file as well as the resulting HTTPMessage object.\u001B[39;00m\n\u001B[1;32m    238\u001B[0m \u001B[38;5;124;03m\"\"\"\u001B[39;00m\n\u001B[1;32m    239\u001B[0m url_type, path \u001B[38;5;241m=\u001B[39m _splittype(url)\n\u001B[0;32m--> 241\u001B[0m \u001B[38;5;28;01mwith\u001B[39;00m contextlib\u001B[38;5;241m.\u001B[39mclosing(\u001B[43murlopen\u001B[49m\u001B[43m(\u001B[49m\u001B[43murl\u001B[49m\u001B[43m,\u001B[49m\u001B[43m \u001B[49m\u001B[43mdata\u001B[49m\u001B[43m)\u001B[49m) \u001B[38;5;28;01mas\u001B[39;00m fp:\n\u001B[1;32m    242\u001B[0m     headers \u001B[38;5;241m=\u001B[39m fp\u001B[38;5;241m.\u001B[39minfo()\n\u001B[1;32m    244\u001B[0m     \u001B[38;5;66;03m# Just return the local path and the \"headers\" for file://\u001B[39;00m\n\u001B[1;32m    245\u001B[0m     \u001B[38;5;66;03m# URLs. No sense in performing a copy unless requested.\u001B[39;00m\n",
      "File \u001B[0;32m/usr/lib/python3.10/urllib/request.py:216\u001B[0m, in \u001B[0;36murlopen\u001B[0;34m(url, data, timeout, cafile, capath, cadefault, context)\u001B[0m\n\u001B[1;32m    214\u001B[0m \u001B[38;5;28;01melse\u001B[39;00m:\n\u001B[1;32m    215\u001B[0m     opener \u001B[38;5;241m=\u001B[39m _opener\n\u001B[0;32m--> 216\u001B[0m \u001B[38;5;28;01mreturn\u001B[39;00m \u001B[43mopener\u001B[49m\u001B[38;5;241;43m.\u001B[39;49m\u001B[43mopen\u001B[49m\u001B[43m(\u001B[49m\u001B[43murl\u001B[49m\u001B[43m,\u001B[49m\u001B[43m \u001B[49m\u001B[43mdata\u001B[49m\u001B[43m,\u001B[49m\u001B[43m \u001B[49m\u001B[43mtimeout\u001B[49m\u001B[43m)\u001B[49m\n",
      "File \u001B[0;32m/usr/lib/python3.10/urllib/request.py:519\u001B[0m, in \u001B[0;36mOpenerDirector.open\u001B[0;34m(self, fullurl, data, timeout)\u001B[0m\n\u001B[1;32m    516\u001B[0m     req \u001B[38;5;241m=\u001B[39m meth(req)\n\u001B[1;32m    518\u001B[0m sys\u001B[38;5;241m.\u001B[39maudit(\u001B[38;5;124m'\u001B[39m\u001B[38;5;124murllib.Request\u001B[39m\u001B[38;5;124m'\u001B[39m, req\u001B[38;5;241m.\u001B[39mfull_url, req\u001B[38;5;241m.\u001B[39mdata, req\u001B[38;5;241m.\u001B[39mheaders, req\u001B[38;5;241m.\u001B[39mget_method())\n\u001B[0;32m--> 519\u001B[0m response \u001B[38;5;241m=\u001B[39m \u001B[38;5;28;43mself\u001B[39;49m\u001B[38;5;241;43m.\u001B[39;49m\u001B[43m_open\u001B[49m\u001B[43m(\u001B[49m\u001B[43mreq\u001B[49m\u001B[43m,\u001B[49m\u001B[43m \u001B[49m\u001B[43mdata\u001B[49m\u001B[43m)\u001B[49m\n\u001B[1;32m    521\u001B[0m \u001B[38;5;66;03m# post-process response\u001B[39;00m\n\u001B[1;32m    522\u001B[0m meth_name \u001B[38;5;241m=\u001B[39m protocol\u001B[38;5;241m+\u001B[39m\u001B[38;5;124m\"\u001B[39m\u001B[38;5;124m_response\u001B[39m\u001B[38;5;124m\"\u001B[39m\n",
      "File \u001B[0;32m/usr/lib/python3.10/urllib/request.py:536\u001B[0m, in \u001B[0;36mOpenerDirector._open\u001B[0;34m(self, req, data)\u001B[0m\n\u001B[1;32m    533\u001B[0m     \u001B[38;5;28;01mreturn\u001B[39;00m result\n\u001B[1;32m    535\u001B[0m protocol \u001B[38;5;241m=\u001B[39m req\u001B[38;5;241m.\u001B[39mtype\n\u001B[0;32m--> 536\u001B[0m result \u001B[38;5;241m=\u001B[39m \u001B[38;5;28;43mself\u001B[39;49m\u001B[38;5;241;43m.\u001B[39;49m\u001B[43m_call_chain\u001B[49m\u001B[43m(\u001B[49m\u001B[38;5;28;43mself\u001B[39;49m\u001B[38;5;241;43m.\u001B[39;49m\u001B[43mhandle_open\u001B[49m\u001B[43m,\u001B[49m\u001B[43m \u001B[49m\u001B[43mprotocol\u001B[49m\u001B[43m,\u001B[49m\u001B[43m \u001B[49m\u001B[43mprotocol\u001B[49m\u001B[43m \u001B[49m\u001B[38;5;241;43m+\u001B[39;49m\n\u001B[1;32m    537\u001B[0m \u001B[43m                          \u001B[49m\u001B[38;5;124;43m'\u001B[39;49m\u001B[38;5;124;43m_open\u001B[39;49m\u001B[38;5;124;43m'\u001B[39;49m\u001B[43m,\u001B[49m\u001B[43m \u001B[49m\u001B[43mreq\u001B[49m\u001B[43m)\u001B[49m\n\u001B[1;32m    538\u001B[0m \u001B[38;5;28;01mif\u001B[39;00m result:\n\u001B[1;32m    539\u001B[0m     \u001B[38;5;28;01mreturn\u001B[39;00m result\n",
      "File \u001B[0;32m/usr/lib/python3.10/urllib/request.py:496\u001B[0m, in \u001B[0;36mOpenerDirector._call_chain\u001B[0;34m(self, chain, kind, meth_name, *args)\u001B[0m\n\u001B[1;32m    494\u001B[0m \u001B[38;5;28;01mfor\u001B[39;00m handler \u001B[38;5;129;01min\u001B[39;00m handlers:\n\u001B[1;32m    495\u001B[0m     func \u001B[38;5;241m=\u001B[39m \u001B[38;5;28mgetattr\u001B[39m(handler, meth_name)\n\u001B[0;32m--> 496\u001B[0m     result \u001B[38;5;241m=\u001B[39m \u001B[43mfunc\u001B[49m\u001B[43m(\u001B[49m\u001B[38;5;241;43m*\u001B[39;49m\u001B[43margs\u001B[49m\u001B[43m)\u001B[49m\n\u001B[1;32m    497\u001B[0m     \u001B[38;5;28;01mif\u001B[39;00m result \u001B[38;5;129;01mis\u001B[39;00m \u001B[38;5;129;01mnot\u001B[39;00m \u001B[38;5;28;01mNone\u001B[39;00m:\n\u001B[1;32m    498\u001B[0m         \u001B[38;5;28;01mreturn\u001B[39;00m result\n",
      "File \u001B[0;32m/usr/lib/python3.10/urllib/request.py:1391\u001B[0m, in \u001B[0;36mHTTPSHandler.https_open\u001B[0;34m(self, req)\u001B[0m\n\u001B[1;32m   1390\u001B[0m \u001B[38;5;28;01mdef\u001B[39;00m \u001B[38;5;21mhttps_open\u001B[39m(\u001B[38;5;28mself\u001B[39m, req):\n\u001B[0;32m-> 1391\u001B[0m     \u001B[38;5;28;01mreturn\u001B[39;00m \u001B[38;5;28;43mself\u001B[39;49m\u001B[38;5;241;43m.\u001B[39;49m\u001B[43mdo_open\u001B[49m\u001B[43m(\u001B[49m\u001B[43mhttp\u001B[49m\u001B[38;5;241;43m.\u001B[39;49m\u001B[43mclient\u001B[49m\u001B[38;5;241;43m.\u001B[39;49m\u001B[43mHTTPSConnection\u001B[49m\u001B[43m,\u001B[49m\u001B[43m \u001B[49m\u001B[43mreq\u001B[49m\u001B[43m,\u001B[49m\n\u001B[1;32m   1392\u001B[0m \u001B[43m        \u001B[49m\u001B[43mcontext\u001B[49m\u001B[38;5;241;43m=\u001B[39;49m\u001B[38;5;28;43mself\u001B[39;49m\u001B[38;5;241;43m.\u001B[39;49m\u001B[43m_context\u001B[49m\u001B[43m,\u001B[49m\u001B[43m \u001B[49m\u001B[43mcheck_hostname\u001B[49m\u001B[38;5;241;43m=\u001B[39;49m\u001B[38;5;28;43mself\u001B[39;49m\u001B[38;5;241;43m.\u001B[39;49m\u001B[43m_check_hostname\u001B[49m\u001B[43m)\u001B[49m\n",
      "File \u001B[0;32m/usr/lib/python3.10/urllib/request.py:1351\u001B[0m, in \u001B[0;36mAbstractHTTPHandler.do_open\u001B[0;34m(self, http_class, req, **http_conn_args)\u001B[0m\n\u001B[1;32m   1348\u001B[0m         h\u001B[38;5;241m.\u001B[39mrequest(req\u001B[38;5;241m.\u001B[39mget_method(), req\u001B[38;5;241m.\u001B[39mselector, req\u001B[38;5;241m.\u001B[39mdata, headers,\n\u001B[1;32m   1349\u001B[0m                   encode_chunked\u001B[38;5;241m=\u001B[39mreq\u001B[38;5;241m.\u001B[39mhas_header(\u001B[38;5;124m'\u001B[39m\u001B[38;5;124mTransfer-encoding\u001B[39m\u001B[38;5;124m'\u001B[39m))\n\u001B[1;32m   1350\u001B[0m     \u001B[38;5;28;01mexcept\u001B[39;00m \u001B[38;5;167;01mOSError\u001B[39;00m \u001B[38;5;28;01mas\u001B[39;00m err: \u001B[38;5;66;03m# timeout error\u001B[39;00m\n\u001B[0;32m-> 1351\u001B[0m         \u001B[38;5;28;01mraise\u001B[39;00m URLError(err)\n\u001B[1;32m   1352\u001B[0m     r \u001B[38;5;241m=\u001B[39m h\u001B[38;5;241m.\u001B[39mgetresponse()\n\u001B[1;32m   1353\u001B[0m \u001B[38;5;28;01mexcept\u001B[39;00m:\n",
      "\u001B[0;31mURLError\u001B[0m: <urlopen error Remote end closed connection without response>"
     ]
    }
   ],
   "source": [
    "# get standardized data\n",
    "X, y = shap.datasets.california(n_points=1000)\n",
    "X_sample = shap.sample(X, 100)\n",
    "\n",
    "model = sklearn.linear_model.LinearRegression()\n",
    "model.fit(X, y)\n",
    "\n",
    "# explain the model's predictions using SHAP\n",
    "explainer = shap.explainers.Permutation(model.predict, X_sample)\n",
    "shap_values = explainer(X_sample)\n",
    "\n",
    "shap.plots.waterfall(shap_values[0])"
   ],
   "metadata": {
    "collapsed": false,
    "pycharm": {
     "name": "#%%\n"
    },
    "ExecuteTime": {
     "end_time": "2023-05-05T10:47:00.151435018Z",
     "start_time": "2023-05-05T10:46:59.671804660Z"
    }
   }
  },
  {
   "cell_type": "code",
   "execution_count": 24,
   "outputs": [
    {
     "ename": "NameError",
     "evalue": "name 'shap_values' is not defined",
     "output_type": "error",
     "traceback": [
      "\u001B[0;31m---------------------------------------------------------------------------\u001B[0m",
      "\u001B[0;31mNameError\u001B[0m                                 Traceback (most recent call last)",
      "Cell \u001B[0;32mIn[24], line 1\u001B[0m\n\u001B[0;32m----> 1\u001B[0m shap\u001B[38;5;241m.\u001B[39msummary_plot(\u001B[43mshap_values\u001B[49m, X_sample)\n",
      "\u001B[0;31mNameError\u001B[0m: name 'shap_values' is not defined"
     ]
    }
   ],
   "source": [
    "shap.summary_plot(shap_values, X_sample)"
   ],
   "metadata": {
    "collapsed": false,
    "pycharm": {
     "name": "#%%\n"
    },
    "ExecuteTime": {
     "end_time": "2023-05-05T10:47:00.422684732Z",
     "start_time": "2023-05-05T10:47:00.380641065Z"
    }
   }
  },
  {
   "cell_type": "code",
   "execution_count": null,
   "outputs": [],
   "source": [
    "from src.preprocess.FeatureSplitter import ImportanceSplitter\n",
    "from sklearn.linear_model import LogisticRegression\n",
    "from sklearn.preprocessing import MinMaxScaler\n",
    "\n",
    "X, y = make_classification(n_samples=1000, n_features=10, n_informative=10, n_redundant=0, n_repeated=0,\n",
    "                               n_classes=2, random_state=0, shuffle=True)\n",
    "X = MinMaxScaler().fit_transform(X)\n",
    "model = LogisticRegression()\n",
    "model.fit(X, y)\n",
    "\n",
    "for i, w in enumerate(range(0.5, 4, 0.5)):\n",
    "    splitter = ImportanceSplitter(num_parties=n_parties, weights=w, seed=i)\n",
    "    n_features_std_summary = []\n",
    "    for j in round(100):\n",
    "        Xs = splitter.split(X)\n",
    "        n_features = [X.shape[1] for X in Xs]\n",
    "        n_features_std = np.std(n_features)\n",
    "        n_features_std_summary.append(n_features_std)\n",
    "    print(np.mean(n_features_std_summary))\n",
    "\n",
    "\n"
   ],
   "metadata": {
    "collapsed": false,
    "pycharm": {
     "name": "#%%\n"
    }
   }
  },
  {
   "cell_type": "code",
   "execution_count": 32,
   "outputs": [
    {
     "name": "stdout",
     "output_type": "stream",
     "text": [
      "Size of Xs: [(2, 1), (2, 5), (2, 801), (2, 5189)]\n"
     ]
    }
   ],
   "source": [
    "\n",
    "from src.preprocess.FeatureSplitter import ImportanceSplitter\n",
    "import numpy as np\n",
    "\n",
    "X = np.zeros([2, 6000])\n",
    "\n",
    "splitter = ImportanceSplitter(num_parties=4, weights=0.1)\n",
    "Xs = splitter.split(X)\n",
    "print(f\"Size of Xs: {[X.shape for X in Xs]}\")"
   ],
   "metadata": {
    "collapsed": false,
    "pycharm": {
     "name": "#%%\n"
    },
    "ExecuteTime": {
     "end_time": "2023-05-05T11:19:21.609043688Z",
     "start_time": "2023-05-05T11:19:21.603649386Z"
    }
   }
  },
  {
   "cell_type": "code",
   "execution_count": 39,
   "outputs": [],
   "source": [
    "# auto reload modules that changed\n",
    "%load_ext autoreload\n",
    "%autoreload 2"
   ],
   "metadata": {
    "collapsed": false,
    "ExecuteTime": {
     "end_time": "2023-05-05T11:29:37.161594241Z",
     "start_time": "2023-05-05T11:29:37.131086067Z"
    }
   }
  },
  {
   "cell_type": "code",
   "execution_count": 11,
   "outputs": [
    {
     "name": "stdout",
     "output_type": "stream",
     "text": [
      "Size of Xs ratio 0.1: [1779, 17946, 1227, 2]\n",
      "Size of Xs ratio 1.0: [6124, 304, 8461, 6065]\n",
      "Size of Xs ratio 10: [5869, 6473, 3561, 5051]\n",
      "Size of Xs ratio 100: [5466, 5575, 4703, 5210]\n"
     ]
    }
   ],
   "source": [
    "import os\n",
    "import sys\n",
    "sys.path.append(os.path.abspath(os.path.join(os.getcwd(), 'src')))\n",
    "from src.dataset.VFLDataset import VFLAlignedDataset\n",
    "\n",
    "dataset = 'realsim'\n",
    "for ratio in [0.1, 1.0, 10, 100]:\n",
    "    num_parties = 4\n",
    "    data = VFLAlignedDataset.from_pickle(f\"data/syn/{dataset}\", dataset, num_parties, splitter='imp', weight=ratio, seed=2)\n",
    "\n",
    "    # get the size of each local party\n",
    "    n_features = [d.X.shape[1] for d in data.local_datasets]\n",
    "    print(f\"Size of Xs ratio {ratio}: {n_features}\")"
   ],
   "metadata": {
    "collapsed": false,
    "ExecuteTime": {
     "end_time": "2023-05-05T11:36:34.125908203Z",
     "start_time": "2023-05-05T11:36:22.061578535Z"
    }
   }
  },
  {
   "cell_type": "code",
   "execution_count": null,
   "outputs": [],
   "source": [],
   "metadata": {
    "collapsed": false
   }
  }
 ],
 "metadata": {
  "kernelspec": {
   "display_name": "Python 3",
   "language": "python",
   "name": "python3"
  },
  "language_info": {
   "codemirror_mode": {
    "name": "ipython",
    "version": 2
   },
   "file_extension": ".py",
   "mimetype": "text/x-python",
   "name": "python",
   "nbconvert_exporter": "python",
   "pygments_lexer": "ipython2",
   "version": "2.7.6"
  }
 },
 "nbformat": 4,
 "nbformat_minor": 0
}
